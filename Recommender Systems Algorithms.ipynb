{
 "cells": [
  {
   "cell_type": "markdown",
   "metadata": {},
   "source": [
    "# Spatio-Temporal Data Mining\n",
    "__*A study on Location-Based Recommender Systems*__  \n",
    "*Dr. Mitra Baratchi, Leiden University*  \n",
    "*Hossein A. Rahmani, University of Zanjan*"
   ]
  },
  {
   "cell_type": "markdown",
   "metadata": {},
   "source": [
    "# Recommender Systems in Location-Based Social Networks\n",
    "In this notebook, we implement three classic recommneder system methods, which we define the basic of recommender systems."
   ]
  },
  {
   "cell_type": "markdown",
   "metadata": {},
   "source": [
    "## What is a Recommender Systesm?"
   ]
  },
  {
   "cell_type": "markdown",
   "metadata": {},
   "source": [
    "Each person has own preferences and personality. *Recommender Systems* try to use your preferences to personalize your experiences on the web and any other applications, and answer some questtions like Who, Where, What etc. For example, where to eat, what to buy, or even who you should be friends with."
   ]
  },
  {
   "cell_type": "markdown",
   "metadata": {},
   "source": [
    "## Recommender Systems Types"
   ]
  },
  {
   "cell_type": "markdown",
   "metadata": {},
   "source": [
    "Two most well known types of recommender systems approaches are:   \n",
    "\n",
    "1. __Content Based (CB)__: The content-based approach is based on the contents, such as user profiles, attributes of the items etc. User profile shows user preferences or as another example based on the user profile we can see which genre of movies he likes.  \n",
    "  \n",
    "2. __Collaborative Filtering (CF)__: The popular and most used approach can be divided into __Memory-based__ and __Model-based__. The Memory-Based collaborative filtering approach can be divided into two main sections: __User-Item filtering__ and __Item-Item filtering__.  \n",
    "  \n",
    "3. __Hybrid Recommender Systems__: Models that use both ratings and content features are called Hybrid Recommender Systems where both Collaborative Filtering and Content-based Models are combined.\n",
    "\n"
   ]
  },
  {
   "cell_type": "markdown",
   "metadata": {},
   "source": [
    "Now, we want to read our dataset (*preprocessed_data.csv*) then apply our methods. First, we implement two memory-based approaches and we should have an evaluation metric for output. Then, we use one of most popular and well-known approach in model-based section.  "
   ]
  },
  {
   "cell_type": "markdown",
   "metadata": {},
   "source": [
    "As you know, in any programming language there are a lot of packages to make implementation easier. In Python, for data mining and data science tasks, there are some important packages like __Numpy__, __Pandas__, __Sklearn__."
   ]
  },
  {
   "cell_type": "code",
   "execution_count": 1,
   "metadata": {
    "collapsed": true
   },
   "outputs": [],
   "source": [
    "# NumPy is the fundamental package for scientific computing with Python\n",
    "# (http://www.numpy.org/).\n",
    "import numpy as np\n",
    "\n",
    "\"\"\" pandas is an open source, BSD-licensed library providing high-performance, \n",
    "easy-to-use data structures and data analysis tools for the Python programming \n",
    "language (https://pandas.pydata.org/). \"\"\"\n",
    "import pandas as pd\n",
    "\n",
    "\"\"\" scikit-learn, Machine Learning in Python, Simple and efficient tools for \n",
    "data mining and data analysis. Importing sklearn.cross_validation triggers a \n",
    "deprecation warning with sklearn 0.18 (http://scikit-learn.org/stable). Changes \n",
    "from 0.17 to 0.18, including the major change from the cross_validation \n",
    "submodule to the model_selection submodule. \"\"\"\n",
    "from sklearn import model_selection as ms\n",
    "from sklearn.metrics.pairwise import cosine_similarity\n",
    "from sklearn.metrics import mean_squared_error\n",
    "\n",
    "from math import sqrt\n",
    "import matplotlib.pyplot as plt\n",
    "from collections import defaultdict"
   ]
  },
  {
   "cell_type": "markdown",
   "metadata": {},
   "source": [
    "First, we define data header and read data as a matrix structure. You can check data and the data structure by enabling *print(df)* in the following codes.So, you can get a sneak peek of the dataset. Next, let's count the number of unique users and locations."
   ]
  },
  {
   "cell_type": "code",
   "execution_count": 5,
   "metadata": {},
   "outputs": [
    {
     "name": "stdout",
     "output_type": "stream",
     "text": [
      ">> Number of users = 2321\n",
      ">> Number of locations = 5596\n"
     ]
    }
   ],
   "source": [
    "header = ['user_id', 'location_id', 'frequency']\n",
    "df = pd.read_csv('preprocessed_data/preprocessed_data.csv', sep='\\t', names=header)\n",
    "\n",
    "n_users = df.user_id.unique().shape[0]\n",
    "n_locations = df.location_id.unique().shape[0]\n",
    "print('>> Number of users = ' + str(n_users))\n",
    "print('>> Number of locations = ' + str(n_locations))"
   ]
  },
  {
   "cell_type": "markdown",
   "metadata": {},
   "source": [
    "We use the *scikit-learn* library to split the dataset into testing and training.  *model_selection.train_test_split* shuffles and splits the data into two datasets according to the percentage of test examples (test_size), which in this case is $0.20$."
   ]
  },
  {
   "cell_type": "code",
   "execution_count": 6,
   "metadata": {},
   "outputs": [
    {
     "name": "stdout",
     "output_type": "stream",
     "text": [
      ">> Train data rows and columns: (65942, 3)\n",
      ">> Test data rows and columns: (16486, 3)\n"
     ]
    }
   ],
   "source": [
    "train_data, test_data = ms.train_test_split(df, test_size=0.20)\n",
    "print(\">> Train data rows and columns:\", train_data.shape)\n",
    "print(\">> Test data rows and columns:\", test_data.shape)"
   ]
  },
  {
   "cell_type": "markdown",
   "metadata": {},
   "source": [
    "### Memory Based Collaborative Filtering"
   ]
  },
  {
   "cell_type": "markdown",
   "metadata": {},
   "source": [
    "As we said before, memory-based is divided into User-Item and Item-Item. The *User-Item collaborative filtering* method try to find similr users and based on the similar user's preferences (i.e. *like, rating, checkin etc*) recommend new things to users. In contrast, *Item-Item filtering* will take an item, find users who liked that item then find other items that those users or similar users also liked. So, based on taken item it makes a recommendation.\n",
    "\n"
   ]
  },
  {
   "cell_type": "markdown",
   "metadata": {},
   "source": [
    "The similarity values between items in Item-Item Collaborative Filtering are measured by observing all the users who have rated both items and for User-Item Collaborative Filtering, the similarity values between users are measured by observing all the locations that are checked-in (check-in frequency) by both users. There are some distance measures, such as Cosine Similarity, Jaccard Similarity etc. [Cosine similarity](https://en.wikipedia.org/wiki/Cosine_similarity) is one the most used distance matrix in recommender systems. To this purpose, the check-in frequency considers as vectors in $n$-dimensional space and the similarity is calculated based on the angle between these vectors. The `Cosine Similrity` for user $u$ and $u'$ is $sim(u,u')=cos(\\theta)=\\frac{r_{u}.r_{u'}}{||r_{u}|| \\ ||r_{u'}||}= \\sum_i\\frac{r_{ui}.r_{u'i}}{\\sqrt{\\sum_ir_{ui}^2}\\sqrt{\\sum_ir_{u'i}^2}}$  "
   ]
  },
  {
   "cell_type": "markdown",
   "metadata": {},
   "source": [
    "The first step will be create two user-item matrices for traning and testing sets:"
   ]
  },
  {
   "cell_type": "code",
   "execution_count": 7,
   "metadata": {
    "collapsed": true
   },
   "outputs": [],
   "source": [
    "#Create two user-item matrices, one for training and another for testing\n",
    "train_data_matrix = np.zeros((n_users, n_locations))\n",
    "\n",
    "for checkin in train_data.itertuples():\n",
    "    train_data_matrix[checkin[1], checkin[2]] = checkin[3]\n",
    "\n",
    "# for RMSE\n",
    "test_data_matrix = np.zeros((n_users, n_locations))\n",
    "# for Precision and Recall\n",
    "ground_truth_dic = defaultdict(set)\n",
    "\n",
    "for checkin in test_data.itertuples():\n",
    "    test_data_matrix[checkin[1], checkin[2]] = checkin[3]\n",
    "    ground_truth_dic[int(checkin[1])].add(int(checkin[2]))"
   ]
  },
  {
   "cell_type": "markdown",
   "metadata": {},
   "source": [
    "For calculating cosine similarity we have implemented a function and used NumPy function. Also, you can use [cosine_similarity](http://scikit-learn.org/stable/modules/generated/sklearn.metrics.pairwise.cosine_similarity.html) function from `sklearn`:"
   ]
  },
  {
   "cell_type": "code",
   "execution_count": 8,
   "metadata": {
    "collapsed": true
   },
   "outputs": [],
   "source": [
    "#user_similarity = cosine_similarity(train_data_matrix)\n",
    "#item_similarity = cosine_similarity(train_data_matrix.T)\n",
    "\n",
    "def cosine_similarity(train_matrix, kind='user', epsilon=1e-9):\n",
    "    # epsilon -> small number for handling dived-by-zero errors\n",
    "    if kind == 'user':\n",
    "        sim = train_matrix.dot(train_matrix.T) + epsilon\n",
    "    elif kind == 'location':\n",
    "        sim = train_matrix.T.dot(train_matrix) + epsilon\n",
    "    norms = np.array([np.sqrt(np.diagonal(sim))])\n",
    "    return (sim / norms / norms.T)\n",
    "\n",
    "user_similarity = cosine_similarity(train_data_matrix, kind='user')\n",
    "item_similarity = cosine_similarity(train_data_matrix, kind='location')"
   ]
  },
  {
   "cell_type": "markdown",
   "metadata": {},
   "source": [
    "The output is a [n_samples_a, n_samples_b], a distance matrix $D$ such that $D_{i, j}$ is the distance between the $i$th and $j$th vectors of the given matrix $X$. Now, we can make the predictions for the check-in that not included with the data based on our similarity matrix. To evaluate the quality of our recommendation model we can then compare the predeictions with the test data."
   ]
  },
  {
   "cell_type": "markdown",
   "metadata": {},
   "source": [
    "For User-based Collaborative Filtering, we predict that a user's $u's$ checkin for location $i$ is given by the weighted sum of all other users' chekcin for location $i$ where the weighting is the `cosine similarity` between the each user and the input user u. For Item-based Collaborative Filterisng is some thing like that, too."
   ]
  },
  {
   "cell_type": "code",
   "execution_count": 9,
   "metadata": {
    "collapsed": true
   },
   "outputs": [],
   "source": [
    "def predict(checkins, similarity, type='user'):\n",
    "    if type == 'user':\n",
    "        pred = similarity.dot(checkins)/np.array([np.abs(similarity).sum(axis=1)]).T\n",
    "        \n",
    "    elif type == 'item':\n",
    "        pred = checkins.dot(similarity)/np.array([np.abs(similarity).sum(axis=1)])\n",
    "        \n",
    "    return pred\n",
    "\n",
    "user_prediction = predict(train_data_matrix, user_similarity, type='user')\n",
    "item_prediction = predict(train_data_matrix, item_similarity, type='item')"
   ]
  },
  {
   "cell_type": "markdown",
   "metadata": {},
   "source": [
    "### Evaluation"
   ]
  },
  {
   "cell_type": "markdown",
   "metadata": {},
   "source": [
    "For evaluation there are many evaluation metrics (e.g. Root Mean Squared Error (RMSE), Precision, Recall etc). The RMSE is one of the most popular evaluation metrics to evaluate predictions. The RMSE is calculated by $RMSE=\\sqrt{\\frac{1}{N}\\sum{(x_i-x'_i)^2}}$"
   ]
  },
  {
   "cell_type": "markdown",
   "metadata": {},
   "source": [
    "To implement the RMSE you can make `square root` from the output of `mean_square_error` (MSE) function. It has been implemented in `sklearn`."
   ]
  },
  {
   "cell_type": "code",
   "execution_count": 10,
   "metadata": {
    "collapsed": true
   },
   "outputs": [],
   "source": [
    "def rmse(prediction, ground_truth):\n",
    "    # prediction[ground_truth.nonzero()] to only consider predicted checkins\n",
    "    # (ratings) that are in the dataset.\n",
    "    prediction = prediction[ground_truth.nonzero()].flatten()\n",
    "    ground_truth = ground_truth[ground_truth.nonzero()].flatten()\n",
    "    return sqrt(mean_squared_error(prediction, ground_truth))"
   ]
  },
  {
   "cell_type": "code",
   "execution_count": 11,
   "metadata": {},
   "outputs": [
    {
     "name": "stdout",
     "output_type": "stream",
     "text": [
      ">> User-based CF RMSE: 0.9672295420874392\n",
      ">> Item-based CF RMSE: 0.9795175511998748\n"
     ]
    }
   ],
   "source": [
    "UB_RMSE = rmse(user_prediction, test_data_matrix)\n",
    "IB_RMSE = rmse(item_prediction, test_data_matrix)\n",
    "print('>> User-based CF RMSE: ' + str(UB_RMSE))\n",
    "print('>> Item-based CF RMSE: ' + str(IB_RMSE))"
   ]
  },
  {
   "cell_type": "markdown",
   "metadata": {},
   "source": [
    "### Model Based Collaborative Filtering"
   ]
  },
  {
   "cell_type": "markdown",
   "metadata": {},
   "source": [
    "Model-Based CF uses machine learning and data mining approach to make a model to predict ratings. In recent years, most of the model-based approaches are based on [Matrix Factorization](https://en.wikipedia.org/wiki/Matrix_decomposition) (MF), and MF approaches received great attention because they are better than memory-based approach for scalability and sparsity. As an unsupervised learning method, the goal of the MFs is to learn the latent preferences of users and latent attributes of items based on known ratings. Actually, in this method, a model tries to learn latent or hidden features of data characteristics to predict the unknown ratings. Consider a very sparse matrix with a lot of dimensions, MF restructures this matrix into a low-rank structure and we can represent it by multiplication of two low-rank matrices. The first matrix shows users and their latent preferences, as well as the second matrix, shows the items and their latent attributes."
   ]
  },
  {
   "cell_type": "markdown",
   "metadata": {},
   "source": [
    "As we said the sparsity is an important problem in the recommender systems or any data mining tasks, let's take a look at the sparsity level of our dataset:"
   ]
  },
  {
   "cell_type": "code",
   "execution_count": 12,
   "metadata": {},
   "outputs": [
    {
     "name": "stdout",
     "output_type": "stream",
     "text": [
      ">> The sparsity level is 99.4%\n"
     ]
    }
   ],
   "source": [
    "sparsity = round(1.0 - len(df) / float(n_users * n_locations), 3)\n",
    "print('>> The sparsity level is ' +  str(sparsity * 100) + '%')"
   ]
  },
  {
   "cell_type": "markdown",
   "metadata": {},
   "source": [
    "### Singular Value Decomposition (SVD)"
   ]
  },
  {
   "cell_type": "markdown",
   "metadata": {},
   "source": [
    "[Singular Value Decomposition](https://en.wikipedia.org/wiki/Singular-value_decomposition) or in short SVD is one the well-known and most used matrix factorization method. Collaborative Filtering or ratings can be formulated by approximating a matrix $X$ by using singular value decomposition. The general equation can be expressed by $X = U \\times S \\times V^{T}$. Matrix $X$ as an $n \\times m$ matrix can be factorized to $U$, $S$ and $V$ :  \n",
    "- $U$ is an $m \\times r$ orthogonal matrix (*user's feature vectors in hidden feature space*)  \n",
    "- $S$ is an $r \\times r$ diagonal matrix (*singular values of X*)  \n",
    "- $V^T$ is an $r \\times n$ orthogonal matrix (*item's feature vectors in hidden feature space*)  "
   ]
  },
  {
   "cell_type": "markdown",
   "metadata": {},
   "source": [
    "Now, we want to make a prediction by dot product of $U$, $S$, and $V^T$. To this purpose, we can use `svds` function from `scipy` package."
   ]
  },
  {
   "cell_type": "code",
   "execution_count": 13,
   "metadata": {},
   "outputs": [
    {
     "name": "stdout",
     "output_type": "stream",
     "text": [
      ">> Model-based CF RMSE: 0.9616846180031596\n"
     ]
    }
   ],
   "source": [
    "from scipy.sparse.linalg import svds\n",
    "\n",
    "#get SVD components from train matrix. Choose k as r in formula.\n",
    "u, s, vt = svds(train_data_matrix, k = 20)\n",
    "s_diag_matrix = np.diag(s)\n",
    "svd_prediction = np.dot(np.dot(u, s_diag_matrix), vt)\n",
    "SVD_RMSE = rmse(svd_prediction, test_data_matrix)\n",
    "print('>> Model-based CF RMSE: ' + str(SVD_RMSE))"
   ]
  },
  {
   "cell_type": "markdown",
   "metadata": {},
   "source": [
    "## Experiments"
   ]
  },
  {
   "cell_type": "markdown",
   "metadata": {},
   "source": [
    "In this secion, we will plot the evaluation metrics results. Out evaluation metrics here are __RMSE__, __Precision__, and __Recall__. You can find more inforation about Precision and Recall [here](https://en.wikipedia.org/wiki/Precision_and_recall)."
   ]
  },
  {
   "cell_type": "code",
   "execution_count": 68,
   "metadata": {},
   "outputs": [
    {
     "data": {
      "image/png": "[encoded data removed]",
      "text/plain": [
       "<matplotlib.figure.Figure at 0x21aa5577b70>"
      ]
     },
     "metadata": {},
     "output_type": "display_data"
    }
   ],
   "source": [
    "objects = ('User-Based', 'Item-Based', 'SVD')\n",
    "y_pos = np.arange(len(objects))\n",
    "performance = [UB_RMSE,IB_RMSE,SVD_RMSE]\n",
    " \n",
    "plt.bar(y_pos, performance, color=['red', 'green', 'blue'], \n",
    "        align='center', alpha=0.6)\n",
    "plt.xticks(y_pos, objects)\n",
    "plt.ylabel('RMSE')\n",
    "plt.title('Comparison of methods based on RMSE')\n",
    "plt.show()"
   ]
  },
  {
   "cell_type": "code",
   "execution_count": 72,
   "metadata": {
    "collapsed": true
   },
   "outputs": [],
   "source": [
    "uPrecision5, uPrecision10, uPrecision15, uPrecision20 = [], [], [], []\n",
    "iPrecision5, iPrecision10, iPrecision15, iPrecision20 = [], [], [], []\n",
    "sPrecision5, sPrecision10, sPrecision15, sPrecision20 = [], [], [], []\n",
    "\n",
    "uRecall5, uRecall10, uRecall15, uRecall20 = [], [], [], []\n",
    "iRecall5, iRecall10, iRecall15, iRecall20 = [], [], [], []\n",
    "sRecall5, sRecall10, sRecall15, sRecall20 = [], [], [], []\n",
    "\n",
    "def precision_k(actual, predicted):\n",
    "    return 1.0 * len(set(actual) & set(predicted)) / len(predicted)\n",
    "\n",
    "\n",
    "def recall_k(actual, predicted):\n",
    "    return 1.0 * len(set(actual) & set(predicted)) / len(actual)\n",
    "\n",
    "all_uids = list(range(n_users))\n",
    "all_lids = list(range(n_locations))\n",
    "np.random.shuffle(all_uids)\n",
    "\n",
    "for cnt, uid in enumerate(all_uids):\n",
    "    if uid in ground_truth_dic:\n",
    "        user_scores = [user_prediction[uid, lid]\n",
    "                        if train_data_matrix[uid, lid] == 0 else -1\n",
    "                            for lid in all_lids]\n",
    "        \n",
    "        item_scores = [item_prediction[uid, lid]\n",
    "                        if train_data_matrix[uid, lid] == 0 else -1\n",
    "                            for lid in all_lids]\n",
    "        \n",
    "        svd_scores = [svd_prediction[uid, lid]\n",
    "                        if train_data_matrix[uid, lid] == 0 else -1\n",
    "                            for lid in all_lids]\n",
    "                \n",
    "        user_scores = np.array(user_scores)\n",
    "        item_scores = np.array(item_scores)\n",
    "        svd_scores = np.array(svd_scores)\n",
    "        \n",
    "        user_predicted = list(reversed(user_scores.argsort()))[:100]\n",
    "        item_predicted = list(reversed(item_scores.argsort()))[:100]\n",
    "        svd_predicted = list(reversed(svd_scores.argsort()))[:100]\n",
    "        \n",
    "        actual = ground_truth_dic[uid]\n",
    "        \n",
    "        k = [5, 10, 15, 20]\n",
    "        \n",
    "        for i in k:\n",
    "            u_precision = precision_k(actual, user_predicted[:i])\n",
    "            u_recall = recall_k(actual, user_predicted[:i])\n",
    "            \n",
    "            i_precision = precision_k(actual, item_predicted[:i])\n",
    "            i_recall = recall_k(actual, item_predicted[:i])\n",
    "            \n",
    "            s_precision = precision_k(actual, svd_predicted[:i])\n",
    "            s_recall = recall_k(actual, svd_predicted[:i])\n",
    "            \n",
    "            if i == 5:\n",
    "                uPrecision5.append(u_precision)\n",
    "                iPrecision5.append(i_precision)\n",
    "                sPrecision5.append(s_precision)\n",
    "                \n",
    "                uRecall5.append(u_recall)\n",
    "                iRecall5.append(i_recall)\n",
    "                sRecall5.append(s_recall)\n",
    "                \n",
    "            elif i == 10:\n",
    "                uPrecision10.append(u_precision)\n",
    "                iPrecision10.append(i_precision)\n",
    "                sPrecision10.append(s_precision)\n",
    "                \n",
    "                uRecall10.append(u_recall)\n",
    "                iRecall10.append(i_recall)\n",
    "                sRecall10.append(s_recall)\n",
    "                \n",
    "            elif i == 15:                \n",
    "                uPrecision15.append(u_precision)\n",
    "                iPrecision15.append(i_precision)\n",
    "                sPrecision15.append(s_precision)\n",
    "                \n",
    "                uRecall15.append(u_recall)\n",
    "                iRecall15.append(i_recall)\n",
    "                sRecall15.append(s_recall)\n",
    "                \n",
    "            elif i == 20:\n",
    "                uPrecision20.append(u_precision)\n",
    "                iPrecision20.append(i_precision)\n",
    "                sPrecision20.append(s_precision)\n",
    "                \n",
    "                uRecall20.append(u_recall)\n",
    "                iRecall20.append(i_recall)\n",
    "                sRecall20.append(s_recall)            "
   ]
  },
  {
   "cell_type": "code",
   "execution_count": 73,
   "metadata": {},
   "outputs": [
    {
     "data": {
      "image/png": "[encoded data removed]",
      "text/plain": [
       "<matplotlib.figure.Figure at 0x21a92f56550>"
      ]
     },
     "metadata": {},
     "output_type": "display_data"
    }
   ],
   "source": [
    "# data to plot\n",
    "n_groups = 4\n",
    "user = (np.mean(uPrecision5), np.mean(uPrecision10), \n",
    "        np.mean(uPrecision15), np.mean(uPrecision20))\n",
    "item = (np.mean(iPrecision5), np.mean(iPrecision10), \n",
    "        np.mean(iPrecision15), np.mean(iPrecision20))\n",
    "svd = (np.mean(sPrecision5), np.mean(sPrecision10), \n",
    "       np.mean(sPrecision15), np.mean(sPrecision20))\n",
    " \n",
    "# create plot\n",
    "fig, ax = plt.subplots()\n",
    "index = np.arange(n_groups)\n",
    "bar_width = 0.15\n",
    "opacity = 0.8\n",
    " \n",
    "rects1 = plt.bar(index, user, bar_width, alpha=opacity, label='User_Based') \n",
    "rects2 = plt.bar(index + bar_width, item, bar_width, \n",
    "                 alpha=opacity, label='Item-Based')\n",
    "rects3 = plt.bar(index + bar_width + bar_width, svd, \n",
    "                 bar_width, alpha=opacity, label='SVD')\n",
    " \n",
    "plt.xlabel('N')\n",
    "plt.ylabel('Values')\n",
    "plt.title('Precision')\n",
    "plt.xticks(index + bar_width, ('5', '10', '15', '20'))\n",
    "plt.legend()\n",
    " \n",
    "plt.tight_layout()\n",
    "plt.show()"
   ]
  },
  {
   "cell_type": "code",
   "execution_count": 64,
   "metadata": {},
   "outputs": [
    {
     "data": {
      "image/png": "[encoded data removed]",
      "text/plain": [
       "<matplotlib.figure.Figure at 0x21aa593a390>"
      ]
     },
     "metadata": {},
     "output_type": "display_data"
    }
   ],
   "source": [
    "# data to plot\n",
    "n_groups = 4\n",
    "user = (np.mean(uRecall5), np.mean(uRecall10), \n",
    "        np.mean(uRecall15), np.mean(uRecall20))\n",
    "item = (np.mean(iRecall5), np.mean(iRecall10), \n",
    "        np.mean(iRecall15), np.mean(iRecall20))\n",
    "svd = (np.mean(sRecall5), np.mean(sRecall10), \n",
    "       np.mean(sRecall15), np.mean(sRecall20))\n",
    " \n",
    "# create plot\n",
    "fig, ax = plt.subplots()\n",
    "index = np.arange(n_groups)\n",
    "bar_width = 0.15\n",
    "opacity = 0.8\n",
    " \n",
    "rects1 = plt.bar(index, user, bar_width, alpha=opacity, label='User_Based') \n",
    "rects2 = plt.bar(index + bar_width, item, bar_width, \n",
    "                 alpha=opacity, label='Item-Based')\n",
    "rects3 = plt.bar(index + bar_width + bar_width, svd, \n",
    "                 bar_width, alpha=opacity, label='SVD')\n",
    " \n",
    "plt.xlabel('N')\n",
    "plt.ylabel('Values')\n",
    "plt.title('Recall')\n",
    "plt.xticks(index + bar_width, ('5', '10', '15', '20'))\n",
    "plt.legend()\n",
    " \n",
    "plt.tight_layout()\n",
    "plt.show()"
   ]
  },
  {
   "cell_type": "code",
   "execution_count": 74,
   "metadata": {},
   "outputs": [
    {
     "data": {
      "image/png": "[encoded data removed]",
      "text/plain": [
       "<matplotlib.figure.Figure at 0x21a92f53588>"
      ]
     },
     "metadata": {},
     "output_type": "display_data"
    }
   ],
   "source": [
    "N = 3\n",
    "means_precision = (np.mean(uPrecision5 + uPrecision10 + uPrecision15 + uPrecision20),\n",
    "                   np.mean(iPrecision5 + iPrecision10 + iPrecision15 + iPrecision20),\n",
    "                   np.mean(sPrecision5 + sPrecision10 + sPrecision15 + sPrecision20))\n",
    "\n",
    "means_recall = (np.mean(uRecall5 + uRecall10 + uRecall15 + uRecall20),\n",
    "                   np.mean(iRecall5 + iRecall10 + iRecall15 + iRecall20),\n",
    "                   np.mean(sRecall5 + sRecall10 + sRecall15 + sRecall20))\n",
    "\n",
    "ind = np.arange(N) \n",
    "width = 0.35\n",
    "\n",
    "plt.bar(ind, means_precision, width, label='Precision')\n",
    "plt.bar(ind + width, means_recall, width, label='Recall')\n",
    "\n",
    "plt.ylabel('Values')\n",
    "plt.title('Precision and Recall')\n",
    "\n",
    "plt.xticks(ind + width / 2, ('User-Based', 'Item-Based', 'SVD'))\n",
    "plt.legend(loc='best')\n",
    "plt.show()"
   ]
  },
  {
   "cell_type": "markdown",
   "metadata": {},
   "source": [
    "## Conclusion"
   ]
  },
  {
   "cell_type": "markdown",
   "metadata": {},
   "source": [
    "Now, we have implemented two basic approaches for location-based recommender systems. As you saw, the Memory-based CF algorithms are easy to implement and the result has appropriate prediction quality. The main challenges in Memory-based approaches are *scalability* and *cold-start* problem. They are not suitable for a real-world scenario, and they have problems when a new user or item added to the system (i.e. cold-start). In contrast, Model-Based CF approaches are scalable and can handle when data is sparse but also suffer from the cold-start problem. Also, more recent work in the Model-based CF minimizes the squared error by applying alternating least square or *stochastic gradient descent* and uses regularization terms to prevent overfitting."
   ]
  }
 ],
 "metadata": {
  "kernelspec": {
   "display_name": "Python 3",
   "language": "python",
   "name": "python3"
  },
  "language_info": {
   "codemirror_mode": {
    "name": "ipython",
    "version": 3
   },
   "file_extension": ".py",
   "mimetype": "text/x-python",
   "name": "python",
   "nbconvert_exporter": "python",
   "pygments_lexer": "ipython3",
   "version": "3.6.3"
  }
 },
 "nbformat": 4,
 "nbformat_minor": 2
}
